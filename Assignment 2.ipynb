{
  "cells": [
    {
      "cell_type": "markdown",
      "id": "46be2ccc-4505-436d-b351-f92e9d65537a",
      "metadata": {
        "id": "46be2ccc-4505-436d-b351-f92e9d65537a"
      },
      "source": [
        "                                                        ASSIGNMENT 2\n",
        "                                                        NAME: Yash Jage"
      ]
    },
    {
      "cell_type": "markdown",
      "id": "ad1d71fd-05e0-4296-bd34-9a183d1a1d3b",
      "metadata": {
        "id": "ad1d71fd-05e0-4296-bd34-9a183d1a1d3b"
      },
      "source": [
        "Q1. How do you comment code in Python? What are the different types of comments?"
      ]
    },
    {
      "cell_type": "markdown",
      "id": "0387c733-8570-4994-a16d-9d9f6af70392",
      "metadata": {
        "id": "0387c733-8570-4994-a16d-9d9f6af70392"
      },
      "source": [
        "In Python, you can add comments to your code to provide explanations, make notes, or disable specific lines of code. There are two types of comments in Python:\n",
        "\n",
        "Single-line comments: To add a single-line comment, you can use the hash character (#) followed by the comment text. The interpreter ignores everything after the # symbol on that line. Here's an example:\n",
        "\n",
        "# This is a single-line comment\n",
        "print(\"Hello, world!\")  # This line prints a message\n",
        "In the above example, the first line is a comment, and the second line is executable code.\n",
        "\n",
        "Multi-line comments: Python does not have a specific syntax for multi-line comments like some other programming languages. However, you can use triple quotes (\"\"\" or ''') to create multi-line strings, which are often used as documentation strings or docstrings. Although they are not treated as comments by the interpreter, they can serve the purpose of comments when used to describe code blocks or provide explanations. Here's an example:\n",
        "\n",
        "\"\"\"\n",
        "This is a multi-line comment. -->\n",
        "It can span multiple lines and is often used as a docstring.\n",
        "\"\"\"\n",
        "print(\"Hello, world!\")\n",
        "In the above example, the multi-line string serves as a comment, and the print statement is the executable code.\n",
        "\n",
        "It's worth mentioning that comments are essential for code readability and maintenance, so it's good practice to include comments to explain your code, especially in complex or confusing parts.\n",
        "\n",
        "\n",
        "\n",
        "\n",
        "\n",
        "\n"
      ]
    },
    {
      "cell_type": "markdown",
      "id": "7b7beb07-56c4-4395-aadf-8ab5f7d69633",
      "metadata": {
        "id": "7b7beb07-56c4-4395-aadf-8ab5f7d69633"
      },
      "source": [
        "Q2. What are variables in Python? How do you declare and assign values to variables?"
      ]
    },
    {
      "cell_type": "markdown",
      "id": "6ac48c47-aa4a-4fa8-a3e2-143942739842",
      "metadata": {
        "id": "6ac48c47-aa4a-4fa8-a3e2-143942739842"
      },
      "source": [
        "In Python, variables are used to store and manipulate data. A variable is like a container that holds a value, and you can give it a name to refer to that value later in your code."
      ]
    },
    {
      "cell_type": "code",
      "execution_count": null,
      "id": "9f1e1d24-39a8-46c1-86b5-7b998f7a184c",
      "metadata": {
        "id": "9f1e1d24-39a8-46c1-86b5-7b998f7a184c"
      },
      "outputs": [],
      "source": [
        "variable_name = value"
      ]
    },
    {
      "cell_type": "code",
      "execution_count": 1,
      "id": "88625eca-eba3-4d3c-8ebf-160afba9a035",
      "metadata": {
        "id": "88625eca-eba3-4d3c-8ebf-160afba9a035"
      },
      "outputs": [],
      "source": [
        "name = \"YASH\"  # Assigning a string value to the variable 'name'\n",
        "age = 25  # Assigning an integer value to the variable 'age'\n",
        "pi = 3.14  # Assigning a floating-point value to the variable 'pi'\n",
        "is_student = True  # Assigning a boolean value to the variable 'is_student'"
      ]
    },
    {
      "cell_type": "markdown",
      "id": "43fa9303-dd50-4db2-9db9-8ec8d48e82e9",
      "metadata": {
        "id": "43fa9303-dd50-4db2-9db9-8ec8d48e82e9"
      },
      "source": [
        "Q3. How do you convert one data type to another in Python?"
      ]
    },
    {
      "cell_type": "markdown",
      "id": "0d153e0f-6ce3-4569-b6b1-0387a7afd93e",
      "metadata": {
        "id": "0d153e0f-6ce3-4569-b6b1-0387a7afd93e"
      },
      "source": [
        "In Python, you can convert one data type to another using type conversion functions or by using the constructor functions of the target data type."
      ]
    },
    {
      "cell_type": "markdown",
      "id": "13af9606-012b-44c6-8637-20918bb1a850",
      "metadata": {
        "id": "13af9606-012b-44c6-8637-20918bb1a850"
      },
      "source": [
        "If you want to explicitly convert a value from one type to another, you can use the appropriate type conversion functions or constructor functions\n",
        "x = 10.5  # float\n",
        "y = int(x)  # Explicitly convert 'x' to an integer using int()\n",
        "print(y)  # Output: 10\n",
        "\n",
        "z = str(y)  # Explicitly convert 'y' to a string using str()\n",
        "print(z)  # Output: \"10\"\n",
        "\n",
        "w = bool(z)  # Explicitly convert 'z' to a boolean using bool()\n",
        "print(w)  # Output: True\n",
        "In the above example, x is explicitly converted to an integer using int(), y is explicitly converted to a string using str(), and z is explicitly converted to a boolean using bool().\n",
        "\n",
        "\n",
        "\n",
        "\n",
        "\n",
        "\n",
        "\n",
        "\n"
      ]
    },
    {
      "cell_type": "markdown",
      "id": "f8410a76-920f-42ec-bb3d-78da3fdfbdbf",
      "metadata": {
        "id": "f8410a76-920f-42ec-bb3d-78da3fdfbdbf"
      },
      "source": [
        "Q4. How do you write and execute a Python script from the command line?"
      ]
    },
    {
      "cell_type": "markdown",
      "id": "714506b0-8002-4eea-9328-91a729f1d57b",
      "metadata": {
        "id": "714506b0-8002-4eea-9328-91a729f1d57b"
      },
      "source": [
        "Open a text editor and create a new file. Enter your Python code in the file, saving it with a .py extension. For example, you can name the file my_script.py.\n",
        "\n",
        "Write your Python code in the file. Here's a simple example:\n",
        "\n",
        "python\n",
        "Copy code\n",
        "print(\"Hello, world!\")\n",
        "Save the file.\n",
        "\n",
        "Open a command prompt or terminal and navigate to the directory where you saved your Python script.\n",
        "\n",
        "To execute the script, use the python command followed by the name of your script file. For example:\n",
        "\n",
        "\n",
        "python my_script.py\n",
        "If you have multiple versions of Python installed, you might need to use a specific version by specifying it in the command. For example, python3 my_script.py to use Python 3.\n",
        "\n",
        "Press Enter to execute the command. The output of your script, if any, will be displayed in the command prompt or terminal."
      ]
    },
    {
      "cell_type": "markdown",
      "id": "97ef3869-d8d6-49dd-afd8-1331f23e9025",
      "metadata": {
        "id": "97ef3869-d8d6-49dd-afd8-1331f23e9025"
      },
      "source": [
        "Q5. Given a list my_list = [1, 2, 3, 4, 5], write the code to slice the list and obtain the sub-list [2, 3]."
      ]
    },
    {
      "cell_type": "code",
      "execution_count": null,
      "id": "db7bc27f-ecf7-4595-a391-6ddaf2fab36a",
      "metadata": {
        "id": "db7bc27f-ecf7-4595-a391-6ddaf2fab36a"
      },
      "outputs": [],
      "source": [
        "my_list=[1,2,3,4,5]"
      ]
    },
    {
      "cell_type": "code",
      "execution_count": null,
      "id": "ecb15e39-66d1-41b7-8c93-de7d130dfd26",
      "metadata": {
        "id": "ecb15e39-66d1-41b7-8c93-de7d130dfd26",
        "outputId": "f0da141d-a285-4977-bb96-53408b454abe"
      },
      "outputs": [
        {
          "data": {
            "text/plain": [
              "[2, 3]"
            ]
          },
          "execution_count": 3,
          "metadata": {},
          "output_type": "execute_result"
        }
      ],
      "source": [
        "my_list[1:3]"
      ]
    },
    {
      "cell_type": "markdown",
      "id": "3f24e124-d6f5-495d-8f16-d290fba5c353",
      "metadata": {
        "id": "3f24e124-d6f5-495d-8f16-d290fba5c353"
      },
      "source": [
        "Q6. What is a complex number in mathematics, and how is it represented in Python?"
      ]
    },
    {
      "cell_type": "markdown",
      "id": "980a27b4-7681-4bd2-a8a2-a4559d252afc",
      "metadata": {
        "id": "980a27b4-7681-4bd2-a8a2-a4559d252afc"
      },
      "source": [
        "In mathematics, a complex number is a number of the form a + bi, where a and b are real numbers, and i is the imaginary unit, defined as the square root of -1. The real part (a) represents the real number component, and the imaginary part (b) represents the imaginary number component.\n",
        "\n",
        "In Python, complex numbers are represented using the complex data type. The imaginary part of a complex number in Python is denoted by the suffix j or J. Here's an example:\n",
        "\n",
        "python\n",
        "Copy code\n",
        "z = 3 + 2j  # Creating a complex number\n",
        "print(z)   # Output: (3+2j)\n",
        "\n",
        "\n",
        "z1 = 3 + 2j\n",
        "z2 = 1 - 4j\n",
        "\n",
        "# Addition\n",
        "sum_result = z1 + z2\n",
        "print(sum_result)  # Output: (4-2j)"
      ]
    },
    {
      "cell_type": "markdown",
      "id": "e7b54404-3596-49ac-adeb-de0f541e6f18",
      "metadata": {
        "id": "e7b54404-3596-49ac-adeb-de0f541e6f18"
      },
      "source": [
        "Q7. What is the correct way to declare a variable named age and assign the value 25 to it?"
      ]
    },
    {
      "cell_type": "code",
      "execution_count": null,
      "id": "cf1a830d-924b-491c-8d40-acfb8f22ab82",
      "metadata": {
        "id": "cf1a830d-924b-491c-8d40-acfb8f22ab82"
      },
      "outputs": [],
      "source": [
        "age=25"
      ]
    },
    {
      "cell_type": "markdown",
      "id": "185d8d00-a6a3-44bb-b4fe-256256c79332",
      "metadata": {
        "id": "185d8d00-a6a3-44bb-b4fe-256256c79332"
      },
      "source": [
        "Q8. Declare a variable named price and assign the value 9.99 to it. What data type does this variable\n",
        "belong to?"
      ]
    },
    {
      "cell_type": "code",
      "execution_count": null,
      "id": "286e614c-27d4-4d11-90a0-dd69d1895a7a",
      "metadata": {
        "id": "286e614c-27d4-4d11-90a0-dd69d1895a7a"
      },
      "outputs": [],
      "source": [
        "price=9.99\n",
        "# This datatype belongs to float"
      ]
    },
    {
      "cell_type": "markdown",
      "id": "a5eeca43-5612-4b9a-bf70-c7a0a00d0164",
      "metadata": {
        "id": "a5eeca43-5612-4b9a-bf70-c7a0a00d0164"
      },
      "source": [
        "Q9. Create a variable named name and assign your full name to it as a string. How would you print the\n",
        "value of this variable?"
      ]
    },
    {
      "cell_type": "code",
      "execution_count": 2,
      "id": "1ba1afcd-4f27-4222-ba2a-97e5353f5e9f",
      "metadata": {
        "id": "1ba1afcd-4f27-4222-ba2a-97e5353f5e9f"
      },
      "outputs": [],
      "source": [
        "name=\"Yash Jage\""
      ]
    },
    {
      "cell_type": "code",
      "execution_count": 3,
      "id": "8aaa487f-8575-4966-8ee4-1e978c7be666",
      "metadata": {
        "colab": {
          "base_uri": "https://localhost:8080/"
        },
        "id": "8aaa487f-8575-4966-8ee4-1e978c7be666",
        "outputId": "d2ce8230-cec7-4f0f-ab9d-54f3e3280228"
      },
      "outputs": [
        {
          "output_type": "stream",
          "name": "stdout",
          "text": [
            "Yash Jage\n"
          ]
        }
      ],
      "source": [
        "print(name)"
      ]
    },
    {
      "cell_type": "markdown",
      "id": "0b83b4b0-884e-4d06-90f2-9ef8d0ea32ce",
      "metadata": {
        "id": "0b83b4b0-884e-4d06-90f2-9ef8d0ea32ce"
      },
      "source": [
        "Q10. Given the string \"Hello, World!\", extract the substring \"World\"."
      ]
    },
    {
      "cell_type": "code",
      "execution_count": null,
      "id": "a5c0fc57-4f6d-4c36-b8c5-0ccb6bf12894",
      "metadata": {
        "id": "a5c0fc57-4f6d-4c36-b8c5-0ccb6bf12894"
      },
      "outputs": [],
      "source": [
        "stringstr=\"Hello, World!\""
      ]
    },
    {
      "cell_type": "code",
      "execution_count": null,
      "id": "738dd3e8-5d8f-4ec3-84dd-8922f4ba85a7",
      "metadata": {
        "id": "738dd3e8-5d8f-4ec3-84dd-8922f4ba85a7"
      },
      "outputs": [],
      "source": [
        "substring1=stringstr[7:12]"
      ]
    },
    {
      "cell_type": "code",
      "execution_count": null,
      "id": "1c823c97-98bb-481b-9b56-0f4335d91d80",
      "metadata": {
        "id": "1c823c97-98bb-481b-9b56-0f4335d91d80",
        "outputId": "f36589b3-267b-4aed-b794-ac0ceabb816d"
      },
      "outputs": [
        {
          "name": "stdout",
          "output_type": "stream",
          "text": [
            "World\n"
          ]
        }
      ],
      "source": [
        "print(substring1)"
      ]
    },
    {
      "cell_type": "markdown",
      "id": "834199ce-a9c1-49b5-8f69-6f8fbde9baa6",
      "metadata": {
        "id": "834199ce-a9c1-49b5-8f69-6f8fbde9baa6"
      },
      "source": [
        "Q11. Create a variable named \"is_student\" and assign it a boolean value indicating whether you are\n",
        "currently a student or not."
      ]
    },
    {
      "cell_type": "code",
      "execution_count": 6,
      "id": "2b846ef9-1987-43b3-be77-99983d14f04c",
      "metadata": {
        "colab": {
          "base_uri": "https://localhost:8080/"
        },
        "id": "2b846ef9-1987-43b3-be77-99983d14f04c",
        "outputId": "2d85b470-1a73-426c-b6e1-cd7ed0624914"
      },
      "outputs": [
        {
          "output_type": "stream",
          "name": "stdout",
          "text": [
            "True\n"
          ]
        }
      ],
      "source": [
        "is_student=True\n",
        "print(is_student)"
      ]
    }
  ],
  "metadata": {
    "kernelspec": {
      "display_name": "Python 3 (ipykernel)",
      "language": "python",
      "name": "python3"
    },
    "language_info": {
      "codemirror_mode": {
        "name": "ipython",
        "version": 3
      },
      "file_extension": ".py",
      "mimetype": "text/x-python",
      "name": "python",
      "nbconvert_exporter": "python",
      "pygments_lexer": "ipython3",
      "version": "3.10.8"
    },
    "colab": {
      "provenance": []
    }
  },
  "nbformat": 4,
  "nbformat_minor": 5
}