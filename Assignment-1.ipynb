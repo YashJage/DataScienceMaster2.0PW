{
 "cells": [
  {
   "cell_type": "markdown",
   "id": "feb7de2f-32a0-4c67-adc2-f453e570e2f0",
   "metadata": {},
   "source": [
    "Q1. Create one variable containing following type of data:\n",
    "(i) string\n",
    "(ii) list\n",
    "(iii) float\n",
    "(iv) tuple"
   ]
  },
  {
   "cell_type": "code",
   "execution_count": 2,
   "id": "8bb79f7b-0f12-48ed-9d97-f9f366044e35",
   "metadata": {},
   "outputs": [],
   "source": [
    "name = 'Yash Jage'\n",
    "marklist = [90,89,95,99, 'physics', 'chemistry', 'maths', 'computer', True]\n",
    "percentage = 92.45\n",
    "mytuple = (1, 'yash', 92.45)"
   ]
  },
  {
   "cell_type": "code",
   "execution_count": 12,
   "id": "921cf19d-763b-402a-9101-61da969fb5b4",
   "metadata": {},
   "outputs": [
    {
     "data": {
      "text/plain": [
       "str"
      ]
     },
     "execution_count": 12,
     "metadata": {},
     "output_type": "execute_result"
    }
   ],
   "source": [
    "type (name)"
   ]
  },
  {
   "cell_type": "code",
   "execution_count": 13,
   "id": "a8506132-1cc7-4bf6-ae43-a460ef4e1913",
   "metadata": {},
   "outputs": [
    {
     "data": {
      "text/plain": [
       "tuple"
      ]
     },
     "execution_count": 13,
     "metadata": {},
     "output_type": "execute_result"
    }
   ],
   "source": [
    "type (mytuple)"
   ]
  },
  {
   "cell_type": "code",
   "execution_count": 14,
   "id": "8f807403-2e4f-402b-a358-afdf0b5ec60c",
   "metadata": {},
   "outputs": [
    {
     "data": {
      "text/plain": [
       "list"
      ]
     },
     "execution_count": 14,
     "metadata": {},
     "output_type": "execute_result"
    }
   ],
   "source": [
    "type (marklist)"
   ]
  },
  {
   "cell_type": "code",
   "execution_count": 15,
   "id": "7f5b5f00-2f13-4ef8-a823-d8a77e397522",
   "metadata": {},
   "outputs": [
    {
     "data": {
      "text/plain": [
       "float"
      ]
     },
     "execution_count": 15,
     "metadata": {},
     "output_type": "execute_result"
    }
   ],
   "source": [
    "type (percentage)"
   ]
  },
  {
   "cell_type": "code",
   "execution_count": 16,
   "id": "0b351b75-8a88-44e9-b072-60fc6a66603b",
   "metadata": {},
   "outputs": [
    {
     "name": "stdout",
     "output_type": "stream",
     "text": [
      "Yash Jage [90, 89, 95, 99, 'physics', 'chemistry', 'maths', 'computer', True] 92.45 (1, 'yash', 92.45)\n"
     ]
    }
   ],
   "source": [
    "print(name, marklist, percentage, mytuple)"
   ]
  },
  {
   "cell_type": "markdown",
   "id": "1986800c-0efa-4f5a-a94c-045425d2c7a6",
   "metadata": {},
   "source": [
    "Q2. Given are some following variables containing data:\n",
    "(i) var1 = ‘ ‘\n",
    "(ii) var2 = ‘[ DS , ML , Python]’\n",
    "(iii) var3 = [ ‘DS’ , ’ML’ , ‘Python’ ]\n",
    "(iv) var4 = 1.\n",
    "What will be the data type of the above given variable."
   ]
  },
  {
   "cell_type": "code",
   "execution_count": 18,
   "id": "34418588-9a95-4bed-bfdc-5c873b55c668",
   "metadata": {},
   "outputs": [],
   "source": [
    "var1 = ' '"
   ]
  },
  {
   "cell_type": "code",
   "execution_count": 22,
   "id": "1f183a96-8f46-4149-8fd3-88b79611e2de",
   "metadata": {},
   "outputs": [
    {
     "data": {
      "text/plain": [
       "str"
      ]
     },
     "execution_count": 22,
     "metadata": {},
     "output_type": "execute_result"
    }
   ],
   "source": [
    "type(var1)"
   ]
  },
  {
   "cell_type": "code",
   "execution_count": 24,
   "id": "dc049ef6-9b61-4e21-92c4-86c4a83a7a53",
   "metadata": {},
   "outputs": [],
   "source": [
    " var2 = '[ DS , ML , Python]'"
   ]
  },
  {
   "cell_type": "code",
   "execution_count": 25,
   "id": "a2c65eb7-6abe-4fed-9cd1-a3c77ee62274",
   "metadata": {},
   "outputs": [
    {
     "data": {
      "text/plain": [
       "str"
      ]
     },
     "execution_count": 25,
     "metadata": {},
     "output_type": "execute_result"
    }
   ],
   "source": [
    "type(var2)"
   ]
  },
  {
   "cell_type": "code",
   "execution_count": 27,
   "id": "80ed0f28-c678-4a2b-8211-de8f466051e7",
   "metadata": {},
   "outputs": [],
   "source": [
    "var3 = [ 'DS' , 'ML' , 'Python' ]"
   ]
  },
  {
   "cell_type": "code",
   "execution_count": 28,
   "id": "bd529c62-7e51-4a0d-b609-2306b2e0153b",
   "metadata": {},
   "outputs": [
    {
     "data": {
      "text/plain": [
       "list"
      ]
     },
     "execution_count": 28,
     "metadata": {},
     "output_type": "execute_result"
    }
   ],
   "source": [
    "type(var3)"
   ]
  },
  {
   "cell_type": "code",
   "execution_count": 29,
   "id": "36496c46-9ee0-4940-9274-bc0a58b8cd7d",
   "metadata": {},
   "outputs": [],
   "source": [
    "var4 = 1."
   ]
  },
  {
   "cell_type": "code",
   "execution_count": 30,
   "id": "55959e81-5f43-4ea6-b13d-366fd399ea00",
   "metadata": {},
   "outputs": [
    {
     "data": {
      "text/plain": [
       "float"
      ]
     },
     "execution_count": 30,
     "metadata": {},
     "output_type": "execute_result"
    }
   ],
   "source": [
    "type(var4)"
   ]
  },
  {
   "cell_type": "raw",
   "id": "89ea8745-bec8-4192-81ea-7ffe3915e2be",
   "metadata": {},
   "source": [
    "Q3. Explain the use of the following operators using an example:\n",
    "(i) /\n",
    "(ii) %\n",
    "(iii) //\n",
    "(iv) **"
   ]
  },
  {
   "cell_type": "markdown",
   "id": "fb4e2096-be6c-4062-b628-f0077413375f",
   "metadata": {},
   "source": [
    "(i) The / operator is the division operator in most programming languages. It is used to perform division between two operands and returns the quotient of the division.\n",
    "\n",
    "Example: Let's say we have two variables, a and b, with values 10 and 3, respectively. If we use the / operator like this: a / b, it will perform the division operation and return the result. In this example, 10 / 3 returns 3.3333333333333335."
   ]
  },
  {
   "cell_type": "code",
   "execution_count": 31,
   "id": "a1eec0a3-5e52-4eab-af49-abc5892a9ed1",
   "metadata": {},
   "outputs": [
    {
     "name": "stdout",
     "output_type": "stream",
     "text": [
      "3.3333333333333335\n"
     ]
    }
   ],
   "source": [
    "#(i) Example of  /\n",
    "\n",
    "a = 10\n",
    "b = 3\n",
    "result = a / b\n",
    "print(result)\n"
   ]
  },
  {
   "cell_type": "markdown",
   "id": "0a21d1c3-16a2-42f0-9e9d-a2dcf180e5f9",
   "metadata": {},
   "source": [
    "(ii) The % operator is the modulo (or remainder) operator. It calculates the remainder of the division between two operands.\n",
    "\n",
    "Example: Let's say we have two variables, a and b, with values 10 and 3, respectively. If we use the % operator like this: a % b, it will perform the modulo operation and return the remainder.In this example, 10 % 3 returns 1 because the remainder of dividing 10 by 3 is 1."
   ]
  },
  {
   "cell_type": "code",
   "execution_count": 32,
   "id": "610f0de7-1ac8-41f4-b61d-70627109354a",
   "metadata": {},
   "outputs": [
    {
     "name": "stdout",
     "output_type": "stream",
     "text": [
      "1\n"
     ]
    }
   ],
   "source": [
    "#(ii) Example of  %\n",
    "\n",
    "a = 10\n",
    "b = 3\n",
    "result = a % b\n",
    "print(result)"
   ]
  },
  {
   "cell_type": "markdown",
   "id": "40ae857b-a6dc-45f1-a262-c59ff0106f3a",
   "metadata": {},
   "source": [
    "(iii) The // operator is the floor division operator. It performs division between two operands and returns the largest integer less than or equal to the quotient.\n",
    "\n",
    "Example: Let's say we have two variables, a and b, with values 10 and 3, respectively. If we use the // operator like this: a // b, it will perform the floor division operation and return the result. In this example, 10 // 3 returns 3 because the largest integer less than or equal to the quotient of 10 divided by 3 is 3."
   ]
  },
  {
   "cell_type": "code",
   "execution_count": 33,
   "id": "62fab737-56a9-43a6-ad30-9b1f4c49a0ff",
   "metadata": {},
   "outputs": [
    {
     "name": "stdout",
     "output_type": "stream",
     "text": [
      "3\n"
     ]
    }
   ],
   "source": [
    "#(iii) Example of  // \n",
    "\n",
    "a = 10\n",
    "b = 3\n",
    "result = a // b\n",
    "print(result)"
   ]
  },
  {
   "cell_type": "markdown",
   "id": "8a1a0e96-5bd2-4829-aed8-c6f214727c6a",
   "metadata": {},
   "source": [
    "(iv) The ** operator is the exponentiation operator. It raises the first operand to the power of the second operand.\n",
    "\n",
    "Example: Let's say we have two variables, a and b, with values 2 and 3, respectively. If we use the ** operator like this: a ** b, it will perform the exponentiation operation and return the result. In this example, 2 ** 3 returns 8 because 2 raised to the power of 3 is 8."
   ]
  },
  {
   "cell_type": "code",
   "execution_count": 34,
   "id": "a0e71379-721d-414e-bacb-97b669c6e1f7",
   "metadata": {},
   "outputs": [
    {
     "name": "stdout",
     "output_type": "stream",
     "text": [
      "8\n"
     ]
    }
   ],
   "source": [
    "#(iv) Example of  **\n",
    "\n",
    "a = 2\n",
    "b = 3\n",
    "result = a ** b\n",
    "print(result)"
   ]
  },
  {
   "cell_type": "raw",
   "id": "e2462d7a-cd5d-46d8-a15a-b53a01df77a1",
   "metadata": {},
   "source": [
    "Q4. Create a list of length 10 of your choice containing multiple types of data. Using for loop print the element and its data type."
   ]
  },
  {
   "cell_type": "code",
   "execution_count": 35,
   "id": "e5586d07-e7af-4050-a668-55d30dd5f9ec",
   "metadata": {},
   "outputs": [],
   "source": [
    "list=[10,20,20.22,'yash',True, 3+5j, 88, 'pwskills',90,100]"
   ]
  },
  {
   "cell_type": "code",
   "execution_count": 79,
   "id": "e65dbd82-633e-4a90-8d9b-cda9eb8d65c7",
   "metadata": {},
   "outputs": [
    {
     "name": "stdout",
     "output_type": "stream",
     "text": [
      "<class 'int'>\n",
      "10\n",
      "<class 'int'>\n",
      "20\n",
      "<class 'float'>\n",
      "20.22\n",
      "<class 'str'>\n",
      "yash\n",
      "<class 'bool'>\n",
      "True\n",
      "<class 'complex'>\n",
      "(3+5j)\n",
      "<class 'int'>\n",
      "88\n",
      "<class 'str'>\n",
      "pwskills\n",
      "<class 'int'>\n",
      "90\n",
      "<class 'int'>\n",
      "100\n"
     ]
    }
   ],
   "source": [
    "for i in list :\n",
    "    print(type(i))\n",
    "    if i==0 :\n",
    "        continue\n",
    "    print(i)"
   ]
  },
  {
   "cell_type": "raw",
   "id": "314d28eb-9d94-4c8c-8ddf-510a6043d3b7",
   "metadata": {},
   "source": [
    "Q5. Using a while loop, verify if the number A is purely divisible by number B and if so then how many times it can be divisible."
   ]
  },
  {
   "cell_type": "code",
   "execution_count": 88,
   "id": "45a9693f-85ee-4e12-b1a2-a04ca2e44469",
   "metadata": {},
   "outputs": [
    {
     "name": "stdout",
     "output_type": "stream",
     "text": [
      "Number of times A is divisible by B: 3\n"
     ]
    }
   ],
   "source": [
    "A = 8\n",
    "B = 2   \n",
    "count = 0 \n",
    "\n",
    "while A % B == 0:\n",
    "    A = A / B\n",
    "    count += 1\n",
    "\n",
    "print(\"Number of times A is divisible by B:\", count)\n"
   ]
  },
  {
   "cell_type": "raw",
   "id": "ad55befb-24f7-4e4b-bbd1-0dae1a347207",
   "metadata": {},
   "source": [
    "Q6. Create a list containing 25 int type data. Using for loop and if-else condition print if the element is divisible by 3 or not."
   ]
  },
  {
   "cell_type": "code",
   "execution_count": 101,
   "id": "5d21d72f-18f8-448a-ade4-07c00515b081",
   "metadata": {},
   "outputs": [],
   "source": [
    "numbers = [1,2,3,4,5,6,7,8,9,10,11,12,13,14,15,16,17,18,19,20,21,22,23,24,25]"
   ]
  },
  {
   "cell_type": "code",
   "execution_count": 102,
   "id": "592d4ff4-6efc-4bfb-8f3d-981bace831d5",
   "metadata": {},
   "outputs": [
    {
     "name": "stdout",
     "output_type": "stream",
     "text": [
      "1 is not divisible by 3\n",
      "2 is not divisible by 3\n",
      "3 is divisible by 3\n",
      "4 is not divisible by 3\n",
      "5 is not divisible by 3\n",
      "6 is divisible by 3\n",
      "7 is not divisible by 3\n",
      "8 is not divisible by 3\n",
      "9 is divisible by 3\n",
      "10 is not divisible by 3\n",
      "11 is not divisible by 3\n",
      "12 is divisible by 3\n",
      "13 is not divisible by 3\n",
      "14 is not divisible by 3\n",
      "15 is divisible by 3\n",
      "16 is not divisible by 3\n",
      "17 is not divisible by 3\n",
      "18 is divisible by 3\n",
      "19 is not divisible by 3\n",
      "20 is not divisible by 3\n",
      "21 is divisible by 3\n",
      "22 is not divisible by 3\n",
      "23 is not divisible by 3\n",
      "24 is divisible by 3\n",
      "25 is not divisible by 3\n"
     ]
    }
   ],
   "source": [
    "for i in numbers:\n",
    "    if i % 3 == 0:\n",
    "        print(i, \"is divisible by 3\")\n",
    "    else:\n",
    "        print(i, \"is not divisible by 3\")"
   ]
  },
  {
   "cell_type": "raw",
   "id": "7c8e445d-3984-4048-b779-dd0eadaf3a8a",
   "metadata": {},
   "source": [
    "Q7. What do you understand about mutable and immutable data types? Give examples for both showing this property."
   ]
  },
  {
   "cell_type": "markdown",
   "id": "8a4dc2b2-3c6e-4ab0-9d6e-b88ff4c35441",
   "metadata": {},
   "source": [
    "ANS- Mutable and immutable are two fundamental concepts that describe the ability to modify an object or not. The main difference between them is that mutable objects can be changed after they are created, while immutable objects cannot be modified once they are created."
   ]
  },
  {
   "cell_type": "markdown",
   "id": "c64f7c3f-edf3-4ac0-8b1d-75a21efea0da",
   "metadata": {},
   "source": [
    "List is Mutable type of data  - "
   ]
  },
  {
   "cell_type": "code",
   "execution_count": 103,
   "id": "f0b54768-8499-4f95-85ce-22d010f14e80",
   "metadata": {},
   "outputs": [],
   "source": [
    "l = [1,2,3,4,5,'yash', 2+6j, True, 33.33]"
   ]
  },
  {
   "cell_type": "code",
   "execution_count": 104,
   "id": "d6be4cf9-29ca-49f1-b5e3-01a16ef5370c",
   "metadata": {},
   "outputs": [
    {
     "data": {
      "text/plain": [
       "'yash'"
      ]
     },
     "execution_count": 104,
     "metadata": {},
     "output_type": "execute_result"
    }
   ],
   "source": [
    "l [5]"
   ]
  },
  {
   "cell_type": "code",
   "execution_count": 105,
   "id": "1ac3cac5-172d-4c63-9827-959ae142e3a7",
   "metadata": {},
   "outputs": [],
   "source": [
    "l [5]= 'yashjage'"
   ]
  },
  {
   "cell_type": "code",
   "execution_count": 106,
   "id": "6cfb749d-db9f-4fa9-a0fd-0d5425e79c99",
   "metadata": {},
   "outputs": [
    {
     "data": {
      "text/plain": [
       "[1, 2, 3, 4, 5, 'yashjage', (2+6j), True, 33.33]"
      ]
     },
     "execution_count": 106,
     "metadata": {},
     "output_type": "execute_result"
    }
   ],
   "source": [
    "l"
   ]
  },
  {
   "cell_type": "markdown",
   "id": "ea66878f-10c6-43c6-9e38-3824627fccd0",
   "metadata": {},
   "source": [
    "String is Immutable type of data, it gives error if we try to mutate."
   ]
  },
  {
   "cell_type": "code",
   "execution_count": 107,
   "id": "66b8c066-1ab3-454b-8829-64a44bf178d4",
   "metadata": {},
   "outputs": [],
   "source": [
    "s = 'yash'"
   ]
  },
  {
   "cell_type": "code",
   "execution_count": 108,
   "id": "f26917a6-be17-4da9-9ed5-8d16347ee624",
   "metadata": {},
   "outputs": [
    {
     "data": {
      "text/plain": [
       "'y'"
      ]
     },
     "execution_count": 108,
     "metadata": {},
     "output_type": "execute_result"
    }
   ],
   "source": [
    "s[0]"
   ]
  },
  {
   "cell_type": "code",
   "execution_count": 109,
   "id": "cc8c5f06-ac21-40c4-8c14-e3715450316d",
   "metadata": {},
   "outputs": [
    {
     "ename": "TypeError",
     "evalue": "'str' object does not support item assignment",
     "output_type": "error",
     "traceback": [
      "\u001b[0;31m---------------------------------------------------------------------------\u001b[0m",
      "\u001b[0;31mTypeError\u001b[0m                                 Traceback (most recent call last)",
      "Cell \u001b[0;32mIn[109], line 1\u001b[0m\n\u001b[0;32m----> 1\u001b[0m \u001b[43ms\u001b[49m\u001b[43m \u001b[49m\u001b[43m[\u001b[49m\u001b[38;5;241;43m0\u001b[39;49m\u001b[43m]\u001b[49m \u001b[38;5;241m=\u001b[39m \u001b[38;5;124m'\u001b[39m\u001b[38;5;124mY\u001b[39m\u001b[38;5;124m'\u001b[39m\n",
      "\u001b[0;31mTypeError\u001b[0m: 'str' object does not support item assignment"
     ]
    }
   ],
   "source": [
    "s [0] = 'Y'"
   ]
  },
  {
   "cell_type": "code",
   "execution_count": null,
   "id": "3d2dba22-c56c-42ca-a1f9-b3975df1099d",
   "metadata": {},
   "outputs": [],
   "source": []
  }
 ],
 "metadata": {
  "kernelspec": {
   "display_name": "Python 3 (ipykernel)",
   "language": "python",
   "name": "python3"
  },
  "language_info": {
   "codemirror_mode": {
    "name": "ipython",
    "version": 3
   },
   "file_extension": ".py",
   "mimetype": "text/x-python",
   "name": "python",
   "nbconvert_exporter": "python",
   "pygments_lexer": "ipython3",
   "version": "3.10.8"
  }
 },
 "nbformat": 4,
 "nbformat_minor": 5
}
