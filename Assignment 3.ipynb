{
  "cells": [
    {
      "cell_type": "markdown",
      "id": "89688127-8662-482a-8f1d-cd86696cadcd",
      "metadata": {
        "id": "89688127-8662-482a-8f1d-cd86696cadcd"
      },
      "source": [
        "ASSIGNMENT 1 WEEK 3 YASH JAGE"
      ]
    },
    {
      "cell_type": "markdown",
      "id": "c48b47f1-b92f-48f1-9474-e9ce7a2bad53",
      "metadata": {
        "id": "c48b47f1-b92f-48f1-9474-e9ce7a2bad53"
      },
      "source": [
        "Q1. Which keyword is used to create a function? Create a function to return a list of odd numbers in the\n",
        "range of 1 to 25."
      ]
    },
    {
      "cell_type": "markdown",
      "id": "487d93aa-f8ab-4888-ba9d-bc41f2b18950",
      "metadata": {
        "id": "487d93aa-f8ab-4888-ba9d-bc41f2b18950"
      },
      "source": [
        "def keyword is used to create a function"
      ]
    },
    {
      "cell_type": "code",
      "execution_count": 1,
      "id": "cd602072-ae6c-4d45-9e9d-87d579a94a7e",
      "metadata": {
        "id": "cd602072-ae6c-4d45-9e9d-87d579a94a7e"
      },
      "outputs": [],
      "source": [
        "def odd(x):\n",
        "    l1=[]\n",
        "    for i in range(1,25) :\n",
        "        if i%2!=0:\n",
        "            l1.append(i)\n",
        "    return l1"
      ]
    },
    {
      "cell_type": "code",
      "execution_count": 4,
      "id": "aea62002-c08b-4250-a3b4-7b7467cc9428",
      "metadata": {
        "id": "aea62002-c08b-4250-a3b4-7b7467cc9428"
      },
      "outputs": [],
      "source": [
        "odd_no=odd()"
      ]
    },
    {
      "cell_type": "markdown",
      "id": "22481212-56db-4e96-b9e6-6eeea5a91d93",
      "metadata": {
        "id": "22481212-56db-4e96-b9e6-6eeea5a91d93"
      },
      "source": [
        "Q2. Why *args and **kwargs is used in some functions? Create a function each for *args and **kwargs\n",
        "to demonstrate their use."
      ]
    },
    {
      "cell_type": "code",
      "execution_count": 5,
      "id": "02e251f8-c49e-49c9-bce1-6a9e3ee3fced",
      "metadata": {
        "colab": {
          "base_uri": "https://localhost:8080/"
        },
        "id": "02e251f8-c49e-49c9-bce1-6a9e3ee3fced",
        "outputId": "afa54b5e-b754-4364-f1c8-194844b6c547"
      },
      "outputs": [
        {
          "output_type": "stream",
          "name": "stdout",
          "text": [
            "[1, 3, 5, 7, 9, 11, 13, 15, 17, 19, 21, 23]\n"
          ]
        }
      ],
      "source": [
        "print(odd_no)"
      ]
    },
    {
      "cell_type": "markdown",
      "id": "e0bd7bdd-a4f1-4a9d-afc5-66243e8de25c",
      "metadata": {
        "id": "e0bd7bdd-a4f1-4a9d-afc5-66243e8de25c"
      },
      "source": [
        "In Python, *args and **kwargs are used to pass a variable number of arguments to a function. They are often used when you are unsure about the number of arguments that will be passed to a function or when you want to provide flexibility in the function's parameter list.\n",
        "\n",
        "The *args syntax allows you to pass any number of positional arguments to a function. It collects these arguments as a tuple, which can be accessed within the function using the args variable name.\n",
        "\n",
        "On the other hand, **kwargs allows you to pass any number of keyword arguments to a function. It collects these arguments as a dictionary, where the keys are the parameter names and the values are the corresponding arguments. Here's an example function that demonstrates the use of **kwargs:"
      ]
    },
    {
      "cell_type": "code",
      "execution_count": 6,
      "id": "10ee1302-aa2c-4c5b-a87e-5deebb1fa1cc",
      "metadata": {
        "id": "10ee1302-aa2c-4c5b-a87e-5deebb1fa1cc"
      },
      "outputs": [],
      "source": [
        "def test1(*args):\n",
        "    return args"
      ]
    },
    {
      "cell_type": "code",
      "execution_count": 7,
      "id": "f8498bf7-4c8d-4712-ba40-dd75ee7a855d",
      "metadata": {
        "colab": {
          "base_uri": "https://localhost:8080/"
        },
        "id": "f8498bf7-4c8d-4712-ba40-dd75ee7a855d",
        "outputId": "bf620a16-7c91-4734-e655-82943fd4169e"
      },
      "outputs": [
        {
          "output_type": "execute_result",
          "data": {
            "text/plain": [
              "(1, 2, 3, [1, 2], 'yash')"
            ]
          },
          "metadata": {},
          "execution_count": 7
        }
      ],
      "source": [
        "test1(1,2,3,[1,2],\"yash\")"
      ]
    },
    {
      "cell_type": "code",
      "execution_count": 8,
      "id": "c105b9df-ebdf-41df-8f6d-7a51c893a56e",
      "metadata": {
        "id": "c105b9df-ebdf-41df-8f6d-7a51c893a56e"
      },
      "outputs": [],
      "source": [
        "def test2(**kwargs):\n",
        "    return kwargs"
      ]
    },
    {
      "cell_type": "code",
      "execution_count": 9,
      "id": "845be4e6-2294-49af-bc89-2e5611ba9d61",
      "metadata": {
        "id": "845be4e6-2294-49af-bc89-2e5611ba9d61"
      },
      "outputs": [],
      "source": [
        "test2={1:\"physics\",2:\"Chemistry\",3:\"Maths\"}"
      ]
    },
    {
      "cell_type": "code",
      "execution_count": null,
      "id": "62608bfc-3d6b-44c5-bf1e-bb83af72975a",
      "metadata": {
        "id": "62608bfc-3d6b-44c5-bf1e-bb83af72975a",
        "outputId": "6af8f113-0635-4e5a-f2b8-ae4fa3b31c99"
      },
      "outputs": [
        {
          "data": {
            "text/plain": [
              "{1: 'physics', 2: 'Chemistry', 3: 'Maths'}"
            ]
          },
          "execution_count": 27,
          "metadata": {},
          "output_type": "execute_result"
        }
      ],
      "source": [
        "test2"
      ]
    },
    {
      "cell_type": "markdown",
      "id": "02e130c5-f403-48ec-bcbd-52c3e3071a41",
      "metadata": {
        "id": "02e130c5-f403-48ec-bcbd-52c3e3071a41"
      },
      "source": [
        "Q3. What is an iterator in python? Name the method used to initialise the iterator object and the method\n",
        "used for iteration. Use these methods to print the first five elements of the given list [2, 4, 6, 8, 10, 12, 14,\n",
        "16, 18, 20]."
      ]
    },
    {
      "cell_type": "markdown",
      "id": "61b87c79-08be-4e62-be1d-8c848e3b476f",
      "metadata": {
        "id": "61b87c79-08be-4e62-be1d-8c848e3b476f"
      },
      "source": [
        "In Python, an iterator is an object that allows you to traverse through a sequence of elements, such as a list, tuple, or string. It provides a way to access the elements of a collection one by one, without needing to know the underlying structure of the collection.\n",
        "\n",
        "To work with an iterator in Python, you need to use two methods:\n",
        "\n",
        "Initialization method: iter()\n",
        "The iter() function is used to initialize an iterator object. It takes a sequence as an argument and returns an iterator object that can be used to traverse through the elements of the sequence.\n",
        "\n",
        "Iteration method: next()\n",
        "The next() function is used to iterate through the elements of an iterator. It returns the next element in the iterator. When all elements have been iterated, it raises the StopIteration exception."
      ]
    },
    {
      "cell_type": "code",
      "execution_count": 13,
      "id": "51a53089-269e-4089-aede-d1807d25246f",
      "metadata": {
        "colab": {
          "base_uri": "https://localhost:8080/"
        },
        "id": "51a53089-269e-4089-aede-d1807d25246f",
        "outputId": "f582f752-867f-4ee3-9cd7-3fff3885e0f0"
      },
      "outputs": [
        {
          "output_type": "stream",
          "name": "stdout",
          "text": [
            "2\n",
            "4\n",
            "6\n",
            "8\n",
            "10\n"
          ]
        }
      ],
      "source": [
        "my_list = [2, 4, 6, 8, 10, 12, 14, 16, 18, 20]\n",
        "my_iterator = iter(my_list)\n",
        "for _ in range(5):\n",
        "    element = next(my_iterator)\n",
        "    print(element)\n"
      ]
    },
    {
      "cell_type": "markdown",
      "id": "b2fd7e68-55ec-4bab-a70e-8d78de6fc408",
      "metadata": {
        "id": "b2fd7e68-55ec-4bab-a70e-8d78de6fc408"
      },
      "source": [
        "Q4. What is a generator function in python? Why yield keyword is used? Give an example of a generator\n",
        "function."
      ]
    },
    {
      "cell_type": "markdown",
      "id": "f2904098-90f7-4681-9990-964e89682280",
      "metadata": {
        "id": "f2904098-90f7-4681-9990-964e89682280"
      },
      "source": [
        "In Python, a generator function is a special type of function that returns an iterator (a generator) which can be iterated over to produce a sequence of values. Unlike regular functions that return a value and terminate, generator functions use the yield keyword to temporarily suspend their execution and yield a value to the caller. This allows the generator function to be resumed later from where it left off, maintaining its internal state.\n",
        "\n",
        "The yield keyword is used in generator functions to define the points at which the generator should yield a value. When the generator function is called, it returns a generator object. When the yield statement is encountered, the generator pauses, and the yielded value is returned to the caller. The generator object can then be iterated over using a loop or by calling the next() function, and each time the generator encounters a yield statement, it produces the next value in the sequence."
      ]
    },
    {
      "cell_type": "code",
      "execution_count": null,
      "id": "4e5f2bff-f17b-44d4-a71e-842577dbb94d",
      "metadata": {
        "id": "4e5f2bff-f17b-44d4-a71e-842577dbb94d"
      },
      "outputs": [],
      "source": [
        "def square(n):\n",
        "    for i in range(n):\n",
        "        yield i**2\n",
        ""
      ]
    },
    {
      "cell_type": "code",
      "execution_count": null,
      "id": "4d58aea6-e92f-436e-99b0-981f26ca6cd7",
      "metadata": {
        "id": "4d58aea6-e92f-436e-99b0-981f26ca6cd7",
        "outputId": "e10b9554-5efd-4488-943c-20ec46a78ed1"
      },
      "outputs": [
        {
          "data": {
            "text/plain": [
              "<generator object square at 0x7fd13c281af0>"
            ]
          },
          "execution_count": 32,
          "metadata": {},
          "output_type": "execute_result"
        }
      ],
      "source": [
        "square(5)"
      ]
    },
    {
      "cell_type": "code",
      "execution_count": null,
      "id": "5bdbb6fd-2a0c-4d5c-ab11-ed34212f3292",
      "metadata": {
        "id": "5bdbb6fd-2a0c-4d5c-ab11-ed34212f3292",
        "outputId": "d07972ae-7e9b-44d4-8c8e-afd9c81b7537"
      },
      "outputs": [
        {
          "name": "stdout",
          "output_type": "stream",
          "text": [
            "0\n",
            "1\n",
            "4\n",
            "9\n",
            "16\n"
          ]
        }
      ],
      "source": [
        "my_generator=square(5)\n",
        "for i in my_generator:\n",
        "    print(i)"
      ]
    },
    {
      "cell_type": "markdown",
      "id": "1e3c7eaa-0fe9-4d4f-88e9-53a6a17f0201",
      "metadata": {
        "id": "1e3c7eaa-0fe9-4d4f-88e9-53a6a17f0201"
      },
      "source": [
        "Q5. Create a generator function for prime numbers less than 1000. Use the next() method to print the\n",
        "first 20 prime numbers."
      ]
    },
    {
      "cell_type": "code",
      "execution_count": null,
      "id": "d49dc512-597e-4ca1-982d-8af427e584a1",
      "metadata": {
        "id": "d49dc512-597e-4ca1-982d-8af427e584a1",
        "outputId": "1e881038-750a-47f8-99ac-19cd7baa59b3"
      },
      "outputs": [
        {
          "name": "stdout",
          "output_type": "stream",
          "text": [
            "2\n",
            "3\n",
            "5\n",
            "7\n",
            "11\n",
            "13\n",
            "17\n",
            "19\n",
            "23\n",
            "29\n",
            "31\n",
            "37\n",
            "41\n",
            "43\n",
            "47\n",
            "53\n",
            "59\n",
            "61\n",
            "67\n",
            "71\n"
          ]
        }
      ],
      "source": [
        "def prime_generator():\n",
        "    primes = []\n",
        "    num = 2\n",
        "    while True:\n",
        "        is_prime = True\n",
        "        for prime in primes:\n",
        "            if num % prime == 0:\n",
        "                is_prime = False\n",
        "                break\n",
        "        if is_prime:\n",
        "            primes.append(num)\n",
        "            yield num\n",
        "        num += 1\n",
        "\n",
        "# Using the generator function\n",
        "my_generator = prime_generator()\n",
        "\n",
        "# Printing the first 20 prime numbers\n",
        "for _ in range(20):\n",
        "    prime = next(my_generator)\n",
        "    print(prime)"
      ]
    },
    {
      "cell_type": "markdown",
      "id": "503ea7df-f615-4d6f-9395-a321a590b0db",
      "metadata": {
        "id": "503ea7df-f615-4d6f-9395-a321a590b0db"
      },
      "source": [
        "Q6. Write a python program to print the first 10 Fibonacci numbers using a while loop."
      ]
    },
    {
      "cell_type": "code",
      "execution_count": null,
      "id": "616d999c-aa1b-4e3f-aa10-325d56f738a2",
      "metadata": {
        "id": "616d999c-aa1b-4e3f-aa10-325d56f738a2",
        "outputId": "d7cfeb56-1e57-4563-b611-0dcf5fa00872"
      },
      "outputs": [
        {
          "name": "stdout",
          "output_type": "stream",
          "text": [
            "0\n",
            "1\n",
            "1\n",
            "2\n",
            "3\n",
            "5\n",
            "8\n",
            "13\n",
            "21\n",
            "34\n"
          ]
        }
      ],
      "source": [
        "def fibannoci():\n",
        "    a=0\n",
        "    b=1\n",
        "    count=0\n",
        "    while  count< 10:\n",
        "        print(a)\n",
        "        next_num= a+b\n",
        "        a=b\n",
        "        b=next_num\n",
        "        count+=1\n",
        "fibannoci()\n",
        ""
      ]
    },
    {
      "cell_type": "markdown",
      "id": "26f5b94f-e83c-4324-8860-0638a7994568",
      "metadata": {
        "id": "26f5b94f-e83c-4324-8860-0638a7994568"
      },
      "source": [
        "Q7. Write a List Comprehension to iterate through the given string: ‘pwskills’.\n",
        "Expected output: ['p', 'w', 's', 'k', 'i', 'l', 'l', 's']"
      ]
    },
    {
      "cell_type": "code",
      "execution_count": null,
      "id": "9bfac2da-e0f9-4058-bfc0-05876c6096c9",
      "metadata": {
        "id": "9bfac2da-e0f9-4058-bfc0-05876c6096c9"
      },
      "outputs": [],
      "source": [
        "string=\"pwskills\"\n",
        "iterator=iter(string)\n",
        "result=[next(iterator) for _ in range(len(string))]"
      ]
    },
    {
      "cell_type": "code",
      "execution_count": null,
      "id": "65509214-f7d3-49dc-b87f-52f63f4c7096",
      "metadata": {
        "id": "65509214-f7d3-49dc-b87f-52f63f4c7096",
        "outputId": "025a94bd-87ff-4062-9461-4839131290a2"
      },
      "outputs": [
        {
          "name": "stdout",
          "output_type": "stream",
          "text": [
            "['p', 'w', 's', 'k', 'i', 'l', 'l', 's']\n"
          ]
        }
      ],
      "source": [
        "print(result)"
      ]
    },
    {
      "cell_type": "code",
      "execution_count": null,
      "id": "1e35cbb3-2fe9-4883-ba39-d34f57b12d57",
      "metadata": {
        "id": "1e35cbb3-2fe9-4883-ba39-d34f57b12d57"
      },
      "outputs": [],
      "source": [
        "Q8. Write a python program to check whether a given number is Palindrome or not using a while loop."
      ]
    },
    {
      "cell_type": "markdown",
      "id": "fac6ec40-e126-41d4-9142-197ce6903ebe",
      "metadata": {
        "id": "fac6ec40-e126-41d4-9142-197ce6903ebe"
      },
      "source": [
        "Q8. Write a python program to check whether a given number is Palindrome or not using a while loop."
      ]
    },
    {
      "cell_type": "code",
      "execution_count": 16,
      "id": "24f484a0-e258-41ed-95fd-2aa4fd8d9972",
      "metadata": {
        "colab": {
          "base_uri": "https://localhost:8080/"
        },
        "id": "24f484a0-e258-41ed-95fd-2aa4fd8d9972",
        "outputId": "d5aa35d0-cc9e-40d9-ce2e-a876548559cc"
      },
      "outputs": [
        {
          "output_type": "stream",
          "name": "stdout",
          "text": [
            "Enter a number: 7\n",
            "7 is a palindrome number.\n"
          ]
        }
      ],
      "source": [
        "def is_palindrome(number):\n",
        "    original_number = number\n",
        "    reverse_number = 0\n",
        "\n",
        "    while number > 0:\n",
        "        digit = number % 10\n",
        "        reverse_number = (reverse_number * 10) + digit\n",
        "        number //= 10\n",
        "\n",
        "    if original_number == reverse_number:\n",
        "        return True\n",
        "    else:\n",
        "        return False\n",
        "\n",
        "# Test the function\n",
        "num = int(input(\"Enter a number: \"))\n",
        "if is_palindrome(num):\n",
        "    print(f\"{num} is a palindrome number.\")\n",
        "else:\n",
        "    print(f\"{num} is not a palindrome number.\")\n"
      ]
    },
    {
      "cell_type": "markdown",
      "id": "aa2021d8-bdd0-4a81-990a-474b5ec39b40",
      "metadata": {
        "id": "aa2021d8-bdd0-4a81-990a-474b5ec39b40"
      },
      "source": [
        "Q9. Write a code to print odd numbers from 1 to 100 using list comprehension."
      ]
    },
    {
      "cell_type": "code",
      "execution_count": 17,
      "id": "673ed84d-25b5-445e-8571-54a38f64ba8f",
      "metadata": {
        "colab": {
          "base_uri": "https://localhost:8080/"
        },
        "id": "673ed84d-25b5-445e-8571-54a38f64ba8f",
        "outputId": "f7c8cea3-7eee-4ad4-fa78-c99b291efa81"
      },
      "outputs": [
        {
          "output_type": "stream",
          "name": "stdout",
          "text": [
            "[1, 3, 5, 7, 9, 11, 13, 15, 17, 19, 21, 23, 25, 27, 29, 31, 33, 35, 37, 39, 41, 43, 45, 47, 49, 51, 53, 55, 57, 59, 61, 63, 65, 67, 69, 71, 73, 75, 77, 79, 81, 83, 85, 87, 89, 91, 93, 95, 97, 99]\n"
          ]
        }
      ],
      "source": [
        "odd_numbers = [num for num in range(1, 101) if num % 2 != 0]\n",
        "print(odd_numbers)"
      ]
    },
    {
      "cell_type": "code",
      "source": [],
      "metadata": {
        "id": "0tkJv6_sS2OT"
      },
      "id": "0tkJv6_sS2OT",
      "execution_count": null,
      "outputs": []
    }
  ],
  "metadata": {
    "kernelspec": {
      "display_name": "Python 3 (ipykernel)",
      "language": "python",
      "name": "python3"
    },
    "language_info": {
      "codemirror_mode": {
        "name": "ipython",
        "version": 3
      },
      "file_extension": ".py",
      "mimetype": "text/x-python",
      "name": "python",
      "nbconvert_exporter": "python",
      "pygments_lexer": "ipython3",
      "version": "3.10.8"
    },
    "colab": {
      "provenance": []
    }
  },
  "nbformat": 4,
  "nbformat_minor": 5
}